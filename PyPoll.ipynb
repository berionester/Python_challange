{
 "cells": [
  {
   "cell_type": "code",
   "execution_count": 85,
   "id": "8b361513",
   "metadata": {},
   "outputs": [],
   "source": [
    "# import dependencies\n",
    "import os\n",
    "import csv\n",
    "\n",
    "# set the file path\n",
    "csv_name=\"election_data.csv\"\n",
    "outputfile = \"election_result.txt\"\n",
    "\n",
    "# variables\n",
    "votes = []\n",
    "candidates = []\n",
    "vote_per_candidate = []\n",
    "candidate_count = []\n",
    "total_votes = 0\n"
   ]
  },
  {
   "cell_type": "code",
   "execution_count": 86,
   "id": "56aa37c9",
   "metadata": {},
   "outputs": [],
   "source": [
    "with open(csv_name, 'r') as csvfile:\n",
    "    csvreader = csv.reader(csvfile, delimiter=',')\n",
    "    csvheader = next(csvreader)\n",
    "    for row in csvreader:\n",
    "        votes.append(row[2])\n",
    "        \n",
    "total_votes = len(votes)"
   ]
  },
  {
   "cell_type": "code",
   "execution_count": 87,
   "id": "96ed558d",
   "metadata": {},
   "outputs": [],
   "source": [
    "# the candidates and indexes\n",
    "for name in votes:\n",
    "   if name not in candidates:\n",
    "        candidates.append(name)\n",
    "        x = name"
   ]
  },
  {
   "cell_type": "code",
   "execution_count": 88,
   "id": "98480f27",
   "metadata": {},
   "outputs": [
    {
     "name": "stdout",
     "output_type": "stream",
     "text": [
      "Election Results\n",
      "--------------------------------------------------\n",
      "Total Votes: 3521001\n",
      "--------------------------------------------------\n",
      "Khan: 63.000% (2218231)\n",
      "Correy: 20.000% (704200)\n",
      "Li: 14.000% (492940)\n",
      "O'Tooley: 3.000% (105630)\n",
      "--------------------------------------------------\n",
      "Winner: Khan\n",
      "--------------------------------------------------\n"
     ]
    }
   ],
   "source": [
    "#the total votes for each candidates\n",
    "count = 0\n",
    "candidate = votes[0]\n",
    "last_count = 0\n",
    "#Top part of the Election Results\n",
    "print(\"Election Results\")\n",
    "print(\"-\"*50)\n",
    "print(f\"Total Votes: {total_votes}\")\n",
    "print(\"-\"*50)\n",
    "\n",
    "for candidate in candidates:\n",
    "    for vote in votes:\n",
    "        if candidate == vote:\n",
    "            count += 1\n",
    "    percentage = count / len(votes)\n",
    "    vote_per_candidate.append(percentage)\n",
    "    candidate_count.append(count)\n",
    "    \n",
    "    if last_count < count:\n",
    "        Winner = candidate    \n",
    "    print(f\"{candidate}: {percentage:.3%} ({count})\")\n",
    "    \n",
    "    # resetting the vote counts\n",
    "    last_count = count\n",
    "    count = 0\n",
    "\n",
    "# print out the winner\n",
    "print(\"-\"*50)\n",
    "print(f\"Winner: {Winner}\")\n",
    "print(\"-\"*50)"
   ]
  },
  {
   "cell_type": "code",
   "execution_count": 89,
   "id": "8fcee70f",
   "metadata": {},
   "outputs": [],
   "source": [
    "# Output result to txt file\n",
    "with open(outputfile, 'w') as output:\n",
    "    output.write(\"Election Results\\n\")\n",
    "    output.write(\"-\"*50+\"\\n\")\n",
    "    output.write(f\"Total Votes: {total_votes}\\n\")\n",
    "    output.write(\"-\"*50+\"\\n\")\n",
    "    for candidate in candidates:\n",
    "        index = candidates.index(candidate)\n",
    "        output.write(f\"{candidate}: {vote_per_candidate[index]:.3%} ({candidate_count[index]})\\n\")\n",
    "    output.write(\"-\"*50+\"\\n\")\n",
    "    output.write(f\"Winner: {Winner}\\n\")"
   ]
  },
  {
   "cell_type": "code",
   "execution_count": null,
   "id": "17bf21d6",
   "metadata": {},
   "outputs": [],
   "source": []
  },
  {
   "cell_type": "code",
   "execution_count": null,
   "id": "31beec28",
   "metadata": {},
   "outputs": [],
   "source": []
  }
 ],
 "metadata": {
  "kernelspec": {
   "display_name": "Python 3 (ipykernel)",
   "language": "python",
   "name": "python3"
  },
  "language_info": {
   "codemirror_mode": {
    "name": "ipython",
    "version": 3
   },
   "file_extension": ".py",
   "mimetype": "text/x-python",
   "name": "python",
   "nbconvert_exporter": "python",
   "pygments_lexer": "ipython3",
   "version": "3.10.1"
  }
 },
 "nbformat": 4,
 "nbformat_minor": 5
}
