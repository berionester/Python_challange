{
 "cells": [
  {
   "cell_type": "code",
   "execution_count": 36,
   "id": "d025b175",
   "metadata": {},
   "outputs": [],
   "source": [
    "import os\n",
    "import csv"
   ]
  },
  {
   "cell_type": "code",
   "execution_count": 37,
   "id": "93946b3d",
   "metadata": {},
   "outputs": [],
   "source": [
    "# set file path\n",
    "csv_name = 'budget_data.csv'\n",
    "\n",
    "# variables\n",
    "month_count = 0\n",
    "Total = 0\n",
    "ProfitLoss = []\n",
    "monthList = []\n",
    "monthly_changes = []\n",
    "\n",
    "# read csv file\n",
    "with open(csv_name, 'r') as csvfile:\n",
    "    csvreader = csv.reader(csvfile, delimiter=\",\")\n",
    "    # headers\n",
    "    csvheader = next(csvreader)\n",
    "    \n",
    "    for row in csvreader:\n",
    "        month_count += 1\n",
    "        Total += int(row[1])\n",
    "        ProfitLoss.append(row[1])\n",
    "        monthList.append(row[0])"
   ]
  },
  {
   "cell_type": "code",
   "execution_count": 38,
   "id": "f003f9b8",
   "metadata": {},
   "outputs": [],
   "source": [
    "# first month (\"Profit/Losses\")\n",
    "firstProLoss = int(ProfitLoss[0])\n",
    "\n",
    "# monthly changes\n",
    "for i in range(1, len(ProfitLoss)):\n",
    "    monthly_changes.append(int(ProfitLoss[i]) - firstProLoss)\n",
    "    firstProLoss = int(ProfitLoss[i])\n",
    "    i += 1\n",
    "\n",
    "avg_change = sum(monthly_changes) / len(monthly_changes)"
   ]
  },
  {
   "cell_type": "code",
   "execution_count": 39,
   "id": "025d135d",
   "metadata": {},
   "outputs": [
    {
     "name": "stdout",
     "output_type": "stream",
     "text": [
      "Financial Analysis\n",
      "--------------------------------------------------\n",
      "Total Months: 86\n",
      "Total: $38382578\n",
      "Average Change: $-2315\n",
      "Greatest Increase in Profits: Dec-2011  ($1926159)\n",
      "Greatest Decrease in Profits: Jul-2013 ($-2196167)\n"
     ]
    }
   ],
   "source": [
    "# The greatest increase in profits and The greatest decrease in profits \n",
    "max_inc = max(monthlyChanges)\n",
    "max_dec = min(monthlyChanges)\n",
    "\n",
    "# find month index for the Max Increase and Max Decrease\n",
    "for i in range(len(monthly_changes)):\n",
    "    if monthly_changes[i] == max_inc:\n",
    "        maxIndex = (i - 1)\n",
    "    elif monthly_changes[i] == max_dec:\n",
    "        minIndex = (i - 1)\n",
    "    else:\n",
    "        i += 1\n",
    "        \n",
    "max_month = monthList[maxIndex]\n",
    "min_month = monthList[minIndex]\n",
    "\n",
    "# Financial Analysis\n",
    "# ----------------------------\n",
    "# Total Months: 86\n",
    "# Total: $38382578\n",
    "# Average  Change: $-2315.12\n",
    "# Greatest Increase in Profits: Feb-2012 ($1926159)\n",
    "# Greatest Decrease in Profits: Sep-2013 ($-2196167)\n",
    "\n",
    "print(\"Financial Analysis\")\n",
    "print(\"-\"*50)\n",
    "print(f\"Total Months: {month_count}\")\n",
    "print(f\"Total: ${Total}\")\n",
    "print(f\"Average Change: ${round(avg_change)}\")\n",
    "print(f\"Greatest Increase in Profits: {max_month}  (${max_inc})\")\n",
    "print(f\"Greatest Decrease in Profits: {min_month} (${max_dec})\")\n",
    "\n",
    "# write financial analysis summary to txt file\n",
    "outputfile = 'summary.txt'\n",
    "\n",
    "# use \"\\n\" to create a new line\n",
    "with  open(outputfile, 'w') as output:\n",
    "    output.write(\"Financial Analysis\\n\")\n",
    "    output.write(\"-\"*50 + \"\\n\")\n",
    "    output.write(f\"Total Months: {month_count}\\n\")\n",
    "    output.write(f\"Total: ${Total}\\n\")\n",
    "    output.write(f\"Average Change: ${avg_change}\")\n",
    "    output.write(f\"Greatest Increase in Profits: {max_month}  (${max_inc})\\n\")\n",
    "    output.write(f\"Greatest Decrease in Profits: {min_month} (${max_dec})\")"
   ]
  },
  {
   "cell_type": "code",
   "execution_count": null,
   "id": "8c2a6760",
   "metadata": {},
   "outputs": [],
   "source": []
  }
 ],
 "metadata": {
  "kernelspec": {
   "display_name": "Python 3 (ipykernel)",
   "language": "python",
   "name": "python3"
  },
  "language_info": {
   "codemirror_mode": {
    "name": "ipython",
    "version": 3
   },
   "file_extension": ".py",
   "mimetype": "text/x-python",
   "name": "python",
   "nbconvert_exporter": "python",
   "pygments_lexer": "ipython3",
   "version": "3.10.1"
  }
 },
 "nbformat": 4,
 "nbformat_minor": 5
}
